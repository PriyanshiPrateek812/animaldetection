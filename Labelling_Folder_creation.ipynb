{
 "cells": [
  {
   "cell_type": "code",
   "execution_count": 1,
   "id": "6429854d-fb8e-4011-b816-e3ed01387042",
   "metadata": {},
   "outputs": [],
   "source": [
    "import cv2\n",
    "import uuid\n",
    "import os \n",
    "import time"
   ]
  },
  {
   "cell_type": "code",
   "execution_count": 6,
   "id": "4abed446-9442-4692-9e16-4e6013eae9ef",
   "metadata": {},
   "outputs": [],
   "source": [
    "LABELIMG_PATH = os.path.join('Tensorflow', 'labelimg')"
   ]
  },
  {
   "cell_type": "code",
   "execution_count": 7,
   "id": "1abab335-647c-4d36-9144-a57b83d1fad3",
   "metadata": {},
   "outputs": [],
   "source": [
    "if os.name == 'posix':\n",
    "    !make qt5py3\n",
    "if os.name =='nt':\n",
    "    !cd {LABELIMG_PATH} && pyrcc5 -o libs/resources.py resources.qrc"
   ]
  },
  {
   "cell_type": "code",
   "execution_count": 8,
   "id": "ab8aeb19-da95-4900-861a-ddb820b004cc",
   "metadata": {},
   "outputs": [
    {
     "name": "stdout",
     "output_type": "stream",
     "text": [
      "Image:C:\\Users\\KIIT\\OneDrive\\Desktop\\detection\\TensorFlow\\workSpace\\image\\elephant\\72c584b509.jpg -> Annotation:C:/Users/KIIT/OneDrive/Desktop/detection/TensorFlow/workSpace/image/elephant\\72c584b509.xml\n",
      "Image:C:\\Users\\KIIT\\OneDrive\\Desktop\\detection\\TensorFlow\\workSpace\\image\\elephant\\79fbd8424b.jpg -> Annotation:C:/Users/KIIT/OneDrive/Desktop/detection/TensorFlow/workSpace/image/elephant\\79fbd8424b.xml\n",
      "Image:C:\\Users\\KIIT\\OneDrive\\Desktop\\detection\\TensorFlow\\workSpace\\image\\panda\\0d68b6adcb.jpg -> Annotation:C:/Users/KIIT/OneDrive/Desktop/detection/TensorFlow/workSpace/image/panda\\0d68b6adcb.xml\n",
      "Image:C:\\Users\\KIIT\\OneDrive\\Desktop\\detection\\TensorFlow\\workSpace\\image\\panda\\1a42357964.jpg -> Annotation:C:/Users/KIIT/OneDrive/Desktop/detection/TensorFlow/workSpace/image/panda\\1a42357964.xml\n",
      "Image:C:\\Users\\KIIT\\OneDrive\\Desktop\\detection\\TensorFlow\\workSpace\\image\\panda\\2aae9ae91c.jpg -> Annotation:C:/Users/KIIT/OneDrive/Desktop/detection/TensorFlow/workSpace/image/panda\\2aae9ae91c.xml\n",
      "Image:C:\\Users\\KIIT\\OneDrive\\Desktop\\detection\\TensorFlow\\workSpace\\image\\panda\\2aafd94c1a.jpg -> Annotation:C:/Users/KIIT/OneDrive/Desktop/detection/TensorFlow/workSpace/image/panda\\2aafd94c1a.xml\n",
      "Image:C:\\Users\\KIIT\\OneDrive\\Desktop\\detection\\TensorFlow\\workSpace\\image\\panda\\2cce7604d6.jpg -> Annotation:C:/Users/KIIT/OneDrive/Desktop/detection/TensorFlow/workSpace/image/panda\\2cce7604d6.xml\n",
      "Image:C:\\Users\\KIIT\\OneDrive\\Desktop\\detection\\TensorFlow\\workSpace\\image\\panda\\2d9f6a7e8d.jpg -> Annotation:C:/Users/KIIT/OneDrive/Desktop/detection/TensorFlow/workSpace/image/panda\\2d9f6a7e8d.xml\n",
      "Image:C:\\Users\\KIIT\\OneDrive\\Desktop\\detection\\TensorFlow\\workSpace\\image\\panda\\2e5ecf80c3.jpg -> Annotation:C:/Users/KIIT/OneDrive/Desktop/detection/TensorFlow/workSpace/image/panda\\2e5ecf80c3.xml\n",
      "Image:C:\\Users\\KIIT\\OneDrive\\Desktop\\detection\\TensorFlow\\workSpace\\image\\panda\\2e7b2b1899.jpg -> Annotation:C:/Users/KIIT/OneDrive/Desktop/detection/TensorFlow/workSpace/image/panda\\2e7b2b1899.xml\n",
      "Image:C:\\Users\\KIIT\\OneDrive\\Desktop\\detection\\TensorFlow\\workSpace\\image\\panda\\2f2f20878c.jpg -> Annotation:C:/Users/KIIT/OneDrive/Desktop/detection/TensorFlow/workSpace/image/panda\\2f2f20878c.xml\n",
      "Image:C:\\Users\\KIIT\\OneDrive\\Desktop\\detection\\TensorFlow\\workSpace\\image\\panda\\03b7ec608a.jpg -> Annotation:C:/Users/KIIT/OneDrive/Desktop/detection/TensorFlow/workSpace/image/panda\\03b7ec608a.xml\n",
      "Image:C:\\Users\\KIIT\\OneDrive\\Desktop\\detection\\TensorFlow\\workSpace\\image\\panda\\3b9c84e96e.jpg -> Annotation:C:/Users/KIIT/OneDrive/Desktop/detection/TensorFlow/workSpace/image/panda\\3b9c84e96e.xml\n",
      "Image:C:\\Users\\KIIT\\OneDrive\\Desktop\\detection\\TensorFlow\\workSpace\\image\\panda\\4a2ced58ed.jpg -> Annotation:C:/Users/KIIT/OneDrive/Desktop/detection/TensorFlow/workSpace/image/panda\\4a2ced58ed.xml\n",
      "Image:C:\\Users\\KIIT\\OneDrive\\Desktop\\detection\\TensorFlow\\workSpace\\image\\panda\\4b8263d194.jpg -> Annotation:C:/Users/KIIT/OneDrive/Desktop/detection/TensorFlow/workSpace/image/panda\\4b8263d194.xml\n",
      "Image:C:\\Users\\KIIT\\OneDrive\\Desktop\\detection\\TensorFlow\\workSpace\\image\\panda\\4b30799528.jpg -> Annotation:C:/Users/KIIT/OneDrive/Desktop/detection/TensorFlow/workSpace/image/panda\\4b30799528.xml\n",
      "Image:C:\\Users\\KIIT\\OneDrive\\Desktop\\detection\\TensorFlow\\workSpace\\image\\panda\\4c4d288571.jpg -> Annotation:C:/Users/KIIT/OneDrive/Desktop/detection/TensorFlow/workSpace/image/panda\\4c4d288571.xml\n",
      "Image:C:\\Users\\KIIT\\OneDrive\\Desktop\\detection\\TensorFlow\\workSpace\\image\\panda\\4c4d288571.jpg -> Annotation:C:/Users/KIIT/OneDrive/Desktop/detection/TensorFlow/workSpace/image/panda\\4c4d288571.xml\n",
      "Image:C:\\Users\\KIIT\\OneDrive\\Desktop\\detection\\TensorFlow\\workSpace\\image\\panda\\4f0f5dab3b.jpg -> Annotation:C:/Users/KIIT/OneDrive/Desktop/detection/TensorFlow/workSpace/image/panda\\4f0f5dab3b.xml\n",
      "Image:C:\\Users\\KIIT\\OneDrive\\Desktop\\detection\\TensorFlow\\workSpace\\image\\panda\\4f4b18c73f.jpg -> Annotation:C:/Users/KIIT/OneDrive/Desktop/detection/TensorFlow/workSpace/image/panda\\4f4b18c73f.xml\n",
      "Image:C:\\Users\\KIIT\\OneDrive\\Desktop\\detection\\TensorFlow\\workSpace\\image\\panda\\4f885e1071.jpg -> Annotation:C:/Users/KIIT/OneDrive/Desktop/detection/TensorFlow/workSpace/image/panda\\4f885e1071.xml\n",
      "Image:C:\\Users\\KIIT\\OneDrive\\Desktop\\detection\\TensorFlow\\workSpace\\image\\panda\\4f7295164b.jpg -> Annotation:C:/Users/KIIT/OneDrive/Desktop/detection/TensorFlow/workSpace/image/panda\\4f7295164b.xml\n",
      "Image:C:\\Users\\KIIT\\OneDrive\\Desktop\\detection\\TensorFlow\\workSpace\\image\\panda\\4ff9097668.jpg -> Annotation:C:/Users/KIIT/OneDrive/Desktop/detection/TensorFlow/workSpace/image/panda\\4ff9097668.xml\n",
      "Image:C:\\Users\\KIIT\\OneDrive\\Desktop\\detection\\TensorFlow\\workSpace\\image\\panda\\4ff9097668.jpg -> Annotation:C:/Users/KIIT/OneDrive/Desktop/detection/TensorFlow/workSpace/image/panda\\4ff9097668.xml\n",
      "Image:C:\\Users\\KIIT\\OneDrive\\Desktop\\detection\\TensorFlow\\workSpace\\image\\panda\\4ffa9f872e.jpg -> Annotation:C:/Users/KIIT/OneDrive/Desktop/detection/TensorFlow/workSpace/image/panda\\4ffa9f872e.xml\n",
      "Image:C:\\Users\\KIIT\\OneDrive\\Desktop\\detection\\TensorFlow\\workSpace\\image\\panda\\5c28915ae6.jpg -> Annotation:C:/Users/KIIT/OneDrive/Desktop/detection/TensorFlow/workSpace/image/panda\\5c28915ae6.xml\n",
      "Image:C:\\Users\\KIIT\\OneDrive\\Desktop\\detection\\TensorFlow\\workSpace\\image\\panda\\5c28915ae6.jpg -> Annotation:C:/Users/KIIT/OneDrive/Desktop/detection/TensorFlow/workSpace/image/panda\\5c28915ae6.xml\n",
      "Image:C:\\Users\\KIIT\\OneDrive\\Desktop\\detection\\TensorFlow\\workSpace\\image\\panda\\5c28915ae6.jpg -> Annotation:C:/Users/KIIT/OneDrive/Desktop/detection/TensorFlow/workSpace/image/panda\\5c28915ae6.xml\n",
      "Image:C:\\Users\\KIIT\\OneDrive\\Desktop\\detection\\TensorFlow\\workSpace\\image\\panda\\5c28915ae6.jpg -> Annotation:C:/Users/KIIT/OneDrive/Desktop/detection/TensorFlow/workSpace/image/panda\\5c28915ae6.xml\n",
      "Image:C:\\Users\\KIIT\\OneDrive\\Desktop\\detection\\TensorFlow\\workSpace\\image\\panda\\5c28915ae6.jpg -> Annotation:C:/Users/KIIT/OneDrive/Desktop/detection/TensorFlow/workSpace/image/panda\\5c28915ae6.xml\n",
      "Image:C:\\Users\\KIIT\\OneDrive\\Desktop\\detection\\TensorFlow\\workSpace\\image\\panda\\5d2a9fc32c.jpg -> Annotation:C:/Users/KIIT/OneDrive/Desktop/detection/TensorFlow/workSpace/image/panda\\5d2a9fc32c.xml\n",
      "Image:C:\\Users\\KIIT\\OneDrive\\Desktop\\detection\\TensorFlow\\workSpace\\image\\panda\\5d20a4a5d3.jpg -> Annotation:C:/Users/KIIT/OneDrive/Desktop/detection/TensorFlow/workSpace/image/panda\\5d20a4a5d3.xml\n",
      "Image:C:\\Users\\KIIT\\OneDrive\\Desktop\\detection\\TensorFlow\\workSpace\\image\\panda\\6bd347e8ee.jpg -> Annotation:C:/Users/KIIT/OneDrive/Desktop/detection/TensorFlow/workSpace/image/panda\\6bd347e8ee.xml\n",
      "Image:C:\\Users\\KIIT\\OneDrive\\Desktop\\detection\\TensorFlow\\workSpace\\image\\panda\\6c5d1f2251.jpg -> Annotation:C:/Users/KIIT/OneDrive/Desktop/detection/TensorFlow/workSpace/image/panda\\6c5d1f2251.xml\n",
      "Image:C:\\Users\\KIIT\\OneDrive\\Desktop\\detection\\TensorFlow\\workSpace\\image\\panda\\6cfb53b6fb.jpg -> Annotation:C:/Users/KIIT/OneDrive/Desktop/detection/TensorFlow/workSpace/image/panda\\6cfb53b6fb.xml\n",
      "Image:C:\\Users\\KIIT\\OneDrive\\Desktop\\detection\\TensorFlow\\workSpace\\image\\panda\\6dd3ba7825.jpg -> Annotation:C:/Users/KIIT/OneDrive/Desktop/detection/TensorFlow/workSpace/image/panda\\6dd3ba7825.xml\n",
      "Image:C:\\Users\\KIIT\\OneDrive\\Desktop\\detection\\TensorFlow\\workSpace\\image\\panda\\6f86c84ad1.jpg -> Annotation:C:/Users/KIIT/OneDrive/Desktop/detection/TensorFlow/workSpace/image/panda\\6f86c84ad1.xml\n",
      "Image:C:\\Users\\KIIT\\OneDrive\\Desktop\\detection\\TensorFlow\\workSpace\\image\\panda\\6fe2f21313.jpg -> Annotation:C:/Users/KIIT/OneDrive/Desktop/detection/TensorFlow/workSpace/image/panda\\6fe2f21313.xml\n",
      "Image:C:\\Users\\KIIT\\OneDrive\\Desktop\\detection\\TensorFlow\\workSpace\\image\\panda\\7a007b7aec.jpg -> Annotation:C:/Users/KIIT/OneDrive/Desktop/detection/TensorFlow/workSpace/image/panda\\7a007b7aec.xml\n",
      "Image:C:\\Users\\KIIT\\OneDrive\\Desktop\\detection\\TensorFlow\\workSpace\\image\\panda\\7c397f8786.jpg -> Annotation:C:/Users/KIIT/OneDrive/Desktop/detection/TensorFlow/workSpace/image/panda\\7c397f8786.xml\n",
      "Image:C:\\Users\\KIIT\\OneDrive\\Desktop\\detection\\TensorFlow\\workSpace\\image\\panda\\8ae67d1a1a.jpg -> Annotation:C:/Users/KIIT/OneDrive/Desktop/detection/TensorFlow/workSpace/image/panda\\8ae67d1a1a.xml\n",
      "Image:C:\\Users\\KIIT\\OneDrive\\Desktop\\detection\\TensorFlow\\workSpace\\image\\panda\\8fc061f4d8.jpg -> Annotation:C:/Users/KIIT/OneDrive/Desktop/detection/TensorFlow/workSpace/image/panda\\8fc061f4d8.xml\n",
      "Image:C:\\Users\\KIIT\\OneDrive\\Desktop\\detection\\TensorFlow\\workSpace\\image\\panda\\9af77fbae5.jpg -> Annotation:C:/Users/KIIT/OneDrive/Desktop/detection/TensorFlow/workSpace/image/panda\\9af77fbae5.xml\n",
      "Image:C:\\Users\\KIIT\\OneDrive\\Desktop\\detection\\TensorFlow\\workSpace\\image\\panda\\9b0e5425fc.jpg -> Annotation:C:/Users/KIIT/OneDrive/Desktop/detection/TensorFlow/workSpace/image/panda\\9b0e5425fc.xml\n",
      "Image:C:\\Users\\KIIT\\OneDrive\\Desktop\\detection\\TensorFlow\\workSpace\\image\\panda\\09ec7468db.jpg -> Annotation:C:/Users/KIIT/OneDrive/Desktop/detection/TensorFlow/workSpace/image/panda\\09ec7468db.xml\n",
      "Image:C:\\Users\\KIIT\\OneDrive\\Desktop\\detection\\TensorFlow\\workSpace\\image\\panda\\9ffb930602.jpg -> Annotation:C:/Users/KIIT/OneDrive/Desktop/detection/TensorFlow/workSpace/image/panda\\9ffb930602.xml\n",
      "Image:C:\\Users\\KIIT\\OneDrive\\Desktop\\detection\\TensorFlow\\workSpace\\image\\panda\\9ffb930602.jpg -> Annotation:C:/Users/KIIT/OneDrive/Desktop/detection/TensorFlow/workSpace/image/panda\\9ffb930602.xml\n",
      "Image:C:\\Users\\KIIT\\OneDrive\\Desktop\\detection\\TensorFlow\\workSpace\\image\\panda\\25d070202b.jpg -> Annotation:C:/Users/KIIT/OneDrive/Desktop/detection/TensorFlow/workSpace/image/panda\\25d070202b.xml\n",
      "Image:C:\\Users\\KIIT\\OneDrive\\Desktop\\detection\\TensorFlow\\workSpace\\image\\panda\\26fe3f4c73.jpg -> Annotation:C:/Users/KIIT/OneDrive/Desktop/detection/TensorFlow/workSpace/image/panda\\26fe3f4c73.xml\n",
      "Image:C:\\Users\\KIIT\\OneDrive\\Desktop\\detection\\TensorFlow\\workSpace\\image\\panda\\8ae67d1a1a.jpg -> Annotation:C:/Users/KIIT/OneDrive/Desktop/detection/TensorFlow/workSpace/image/panda\\8ae67d1a1a.xml\n",
      "Image:C:\\Users\\KIIT\\OneDrive\\Desktop\\detection\\TensorFlow\\workSpace\\image\\panda\\38fed2bf1f.jpg -> Annotation:C:/Users/KIIT/OneDrive/Desktop/detection/TensorFlow/workSpace/image/panda\\38fed2bf1f.xml\n",
      "Image:C:\\Users\\KIIT\\OneDrive\\Desktop\\detection\\TensorFlow\\workSpace\\image\\panda\\38fed2bf1f.jpg -> Annotation:C:/Users/KIIT/OneDrive/Desktop/detection/TensorFlow/workSpace/image/panda\\38fed2bf1f.xml\n",
      "Cancel creation.\n",
      "Image:C:\\Users\\KIIT\\OneDrive\\Desktop\\detection\\TensorFlow\\workSpace\\image\\panda\\39cc3462a0.jpg -> Annotation:C:/Users/KIIT/OneDrive/Desktop/detection/TensorFlow/workSpace/image/panda\\39cc3462a0.xml\n",
      "Image:C:\\Users\\KIIT\\OneDrive\\Desktop\\detection\\TensorFlow\\workSpace\\image\\panda\\47ae71074b.jpg -> Annotation:C:/Users/KIIT/OneDrive/Desktop/detection/TensorFlow/workSpace/image/panda\\47ae71074b.xml\n",
      "Image:C:\\Users\\KIIT\\OneDrive\\Desktop\\detection\\TensorFlow\\workSpace\\image\\panda\\52a66a6bda.jpg -> Annotation:C:/Users/KIIT/OneDrive/Desktop/detection/TensorFlow/workSpace/image/panda\\52a66a6bda.xml\n",
      "Image:C:\\Users\\KIIT\\OneDrive\\Desktop\\detection\\TensorFlow\\workSpace\\image\\panda\\52a66a6bda.jpg -> Annotation:C:/Users/KIIT/OneDrive/Desktop/detection/TensorFlow/workSpace/image/panda\\52a66a6bda.xml\n",
      "Image:C:\\Users\\KIIT\\OneDrive\\Desktop\\detection\\TensorFlow\\workSpace\\image\\panda\\52a66a6bda.jpg -> Annotation:C:/Users/KIIT/OneDrive/Desktop/detection/TensorFlow/workSpace/image/panda\\52a66a6bda.xml\n",
      "Image:C:\\Users\\KIIT\\OneDrive\\Desktop\\detection\\TensorFlow\\workSpace\\image\\panda\\57acebf9bf.jpg -> Annotation:C:/Users/KIIT/OneDrive/Desktop/detection/TensorFlow/workSpace/image/panda\\57acebf9bf.xml\n",
      "Image:C:\\Users\\KIIT\\OneDrive\\Desktop\\detection\\TensorFlow\\workSpace\\image\\panda\\059f17ae45.jpg -> Annotation:C:/Users/KIIT/OneDrive/Desktop/detection/TensorFlow/workSpace/image/panda\\059f17ae45.xml\n",
      "Cancel creation.\n",
      "Image:C:\\Users\\KIIT\\OneDrive\\Desktop\\detection\\TensorFlow\\workSpace\\image\\panda\\64cec544d2.jpg -> Annotation:C:/Users/KIIT/OneDrive/Desktop/detection/TensorFlow/workSpace/image/panda\\64cec544d2.xml\n",
      "Image:C:\\Users\\KIIT\\OneDrive\\Desktop\\detection\\TensorFlow\\workSpace\\image\\panda\\67fb285dfb.jpg -> Annotation:C:/Users/KIIT/OneDrive/Desktop/detection/TensorFlow/workSpace/image/panda\\67fb285dfb.xml\n",
      "Cancel creation.\n",
      "Image:C:\\Users\\KIIT\\OneDrive\\Desktop\\detection\\TensorFlow\\workSpace\\image\\panda\\67fb285dfb.jpg -> Annotation:C:/Users/KIIT/OneDrive/Desktop/detection/TensorFlow/workSpace/image/panda\\67fb285dfb.xml\n",
      "Image:C:\\Users\\KIIT\\OneDrive\\Desktop\\detection\\TensorFlow\\workSpace\\image\\panda\\70a7ca96f2.jpg -> Annotation:C:/Users/KIIT/OneDrive/Desktop/detection/TensorFlow/workSpace/image/panda\\70a7ca96f2.xml\n",
      "Image:C:\\Users\\KIIT\\OneDrive\\Desktop\\detection\\TensorFlow\\workSpace\\image\\panda\\73cf5b91c4.jpg -> Annotation:C:/Users/KIIT/OneDrive/Desktop/detection/TensorFlow/workSpace/image/panda\\73cf5b91c4.xml\n",
      "Image:C:\\Users\\KIIT\\OneDrive\\Desktop\\detection\\TensorFlow\\workSpace\\image\\panda\\80f09ce706.jpg -> Annotation:C:/Users/KIIT/OneDrive/Desktop/detection/TensorFlow/workSpace/image/panda\\80f09ce706.xml\n",
      "Image:C:\\Users\\KIIT\\OneDrive\\Desktop\\detection\\TensorFlow\\workSpace\\image\\panda\\89d144d4ba.jpg -> Annotation:C:/Users/KIIT/OneDrive/Desktop/detection/TensorFlow/workSpace/image/panda\\89d144d4ba.xml\n",
      "Image:C:\\Users\\KIIT\\OneDrive\\Desktop\\detection\\TensorFlow\\workSpace\\image\\panda\\093ad8d3cb.jpg -> Annotation:C:/Users/KIIT/OneDrive/Desktop/detection/TensorFlow/workSpace/image/panda\\093ad8d3cb.xml\n",
      "Image:C:\\Users\\KIIT\\OneDrive\\Desktop\\detection\\TensorFlow\\workSpace\\image\\panda\\94f1a2a521.jpg -> Annotation:C:/Users/KIIT/OneDrive/Desktop/detection/TensorFlow/workSpace/image/panda\\94f1a2a521.xml\n",
      "Image:C:\\Users\\KIIT\\OneDrive\\Desktop\\detection\\TensorFlow\\workSpace\\image\\panda\\98e04efe17.jpg -> Annotation:C:/Users/KIIT/OneDrive/Desktop/detection/TensorFlow/workSpace/image/panda\\98e04efe17.xml\n",
      "Image:C:\\Users\\KIIT\\OneDrive\\Desktop\\detection\\TensorFlow\\workSpace\\image\\panda\\98e04efe17.jpg -> Annotation:C:/Users/KIIT/OneDrive/Desktop/detection/TensorFlow/workSpace/image/panda\\98e04efe17.xml\n",
      "Image:C:\\Users\\KIIT\\OneDrive\\Desktop\\detection\\TensorFlow\\workSpace\\image\\panda\\309a27763a.jpg -> Annotation:C:/Users/KIIT/OneDrive/Desktop/detection/TensorFlow/workSpace/image/panda\\309a27763a.xml\n",
      "Cancel creation.\n",
      "Image:C:\\Users\\KIIT\\OneDrive\\Desktop\\detection\\TensorFlow\\workSpace\\image\\panda\\496bd52415.jpg -> Annotation:C:/Users/KIIT/OneDrive/Desktop/detection/TensorFlow/workSpace/image/panda\\496bd52415.xml\n",
      "Image:C:\\Users\\KIIT\\OneDrive\\Desktop\\detection\\TensorFlow\\workSpace\\image\\panda\\555f2ba341.jpg -> Annotation:C:/Users/KIIT/OneDrive/Desktop/detection/TensorFlow/workSpace/image/panda\\555f2ba341.xml\n",
      "Image:C:\\Users\\KIIT\\OneDrive\\Desktop\\detection\\TensorFlow\\workSpace\\image\\panda\\891ac3c7b1.jpg -> Annotation:C:/Users/KIIT/OneDrive/Desktop/detection/TensorFlow/workSpace/image/panda\\891ac3c7b1.xml\n"
     ]
    }
   ],
   "source": [
    "!cd {LABELIMG_PATH} && python labelImg.py"
   ]
  },
  {
   "cell_type": "code",
   "execution_count": 2,
   "id": "e9cfd219-7806-4570-a436-bc43426fe90a",
   "metadata": {},
   "outputs": [],
   "source": [
    "TRAIN_PATH = os.path.join('TensorFlow', 'workSpace', 'image', 'train')\n",
    "TEST_PATH = os.path.join('TensorFlow', 'workSpace', 'image', 'test')"
   ]
  }
 ],
 "metadata": {
  "kernelspec": {
   "display_name": "tensor",
   "language": "python",
   "name": "tensor"
  },
  "language_info": {
   "codemirror_mode": {
    "name": "ipython",
    "version": 3
   },
   "file_extension": ".py",
   "mimetype": "text/x-python",
   "name": "python",
   "nbconvert_exporter": "python",
   "pygments_lexer": "ipython3",
   "version": "3.9.13"
  }
 },
 "nbformat": 4,
 "nbformat_minor": 5
}
